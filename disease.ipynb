{
 "cells": [
  {
   "cell_type": "markdown",
   "metadata": {},
   "source": [
    "# Get the dataset from- \n",
    "http://people.dbmi.columbia.edu/~friedma/Projects/DiseaseSymptomKB/index.html"
   ]
  },
  {
   "cell_type": "code",
   "execution_count": null,
   "metadata": {
    "vscode": {
     "languageId": "plaintext"
    }
   },
   "outputs": [],
   "source": [
    "# Import Dependencies\n",
    "import csv\n",
    "import pandas as pd\n",
    "import numpy as np\n",
    "from collections import defaultdict\n",
    "import seaborn as sns\n",
    "import matplotlib.pyplot as plt\n",
    "%matplotlib inline"
   ]
  },
  {
   "cell_type": "code",
   "execution_count": null,
   "metadata": {
    "vscode": {
     "languageId": "plaintext"
    }
   },
   "outputs": [],
   "source": [
    "disease_list = []\n",
    "\n",
    "def return_list(disease):\n",
    "    disease_list = []\n",
    "    match = disease.replace('^','_').split('_') # using _ as common splitting delimeter\n",
    "    ctr = 1\n",
    "    for group in match:\n",
    "        if ctr%2==0:\n",
    "            disease_list.append(group) # refer the data format\n",
    "        ctr = ctr + 1\n",
    "\n",
    "    return disease_list"
   ]
  },
  {
   "cell_type": "code",
   "execution_count": null,
   "metadata": {
    "vscode": {
     "languageId": "plaintext"
    }
   },
   "outputs": [],
   "source": [
    "with open(\"/content/Datasets/raw_data_2.csv\") as csvfile:\n",
    "    reader = csv.reader(csvfile)\n",
    "    disease=\"\"\n",
    "    weight = 0\n",
    "    disease_list = []\n",
    "    dict_wt = {}\n",
    "    dict_=defaultdict(list)\n",
    "\n",
    "    for row in reader:\n",
    "\n",
    "        if row[0]!=\"\\xc2\\0xa0\" and row[0]!=\"\": # for handling file encoding errors\n",
    "          # saving disease and frequency\n",
    "            disease = row[0]\n",
    "            disease_list = return_list(disease)\n",
    "            weight = row[1]\n",
    "\n",
    "        if row[2]!=\"\\xc2\\0xa0\" and row[2]!=\"\":\n",
    "            symptom_list = return_list(row[2])\n",
    "\n",
    "            for d in disease_list:\n",
    "                for s in symptom_list:\n",
    "                    dict_[d].append(s) # adding all symptoms\n",
    "                dict_wt[d] = weight"
   ]
  },
  {
   "cell_type": "code",
   "execution_count": null,
   "metadata": {
    "vscode": {
     "languageId": "plaintext"
    }
   },
   "outputs": [],
   "source": [
    "with open(\"dataset_clean.csv\",\"w\") as csvfile:\n",
    "    writer = csv.writer(csvfile)\n",
    "    for key,values in dict_.items():\n",
    "        for v in values:\n",
    "            #key = str.encode(key)\n",
    "            key = str.encode(key).decode('utf-8')\n",
    "            #.strip()\n",
    "            #v = v.encode('utf-8').strip()\n",
    "            #v = str.encode(v)\n",
    "            writer.writerow([key,v,dict_wt[key]])\n",
    "\n",
    "columns = ['Source','Target','Weight'] # source: disease, target: symptom, weight: number of cases\n",
    "data = pd.read_csv(\"dataset_clean.csv\",names=columns, encoding =\"ISO-8859-1\")\n",
    "data.head()\n"
   ]
  },
  {
   "cell_type": "code",
   "execution_count": null,
   "metadata": {
    "vscode": {
     "languageId": "plaintext"
    }
   },
   "outputs": [],
   "source": [
    "data.to_csv(\"dataset_clean.csv\",index=False)\n",
    "data = pd.read_csv(\"dataset_clean.csv\", encoding =\"ISO-8859-1\")\n",
    "data.head()\n",
    "len(data['Source'].unique()) # unique diseases\n",
    "len(data['Target'].unique()) # unique symptoms\n",
    "df = pd.DataFrame(data)\n",
    "df_1 = pd.get_dummies(df.Target) # 1 hot encoding symptoms\n",
    "df_1.head()\n",
    "df.head()\n",
    "\n",
    "df_s = df['Source']\n",
    "df_pivoted = pd.concat([df_s,df_1], axis=1)\n",
    "df_pivoted.drop_duplicates(keep='first',inplace=True)\n",
    "df_pivoted[:5]\n"
   ]
  },
  {
   "cell_type": "code",
   "execution_count": null,
   "metadata": {
    "vscode": {
     "languageId": "plaintext"
    }
   },
   "outputs": [],
   "source": [
    "len(df_pivoted)\n",
    "cols = df_pivoted.columns\n",
    "cols = cols[1:] # removing headings\n",
    "\n",
    "# visualizing existance of symptoms for diseases\n",
    "df_pivoted = df_pivoted.groupby('Source').sum()\n",
    "df_pivoted = df_pivoted.reset_index()\n",
    "df_pivoted[:5]\n"
   ]
  },
  {
   "cell_type": "code",
   "execution_count": null,
   "metadata": {
    "vscode": {
     "languageId": "plaintext"
    }
   },
   "outputs": [],
   "source": [
    "len(df_pivoted)\n",
    "df_pivoted.to_csv(\"df_pivoted.csv\")\n",
    "# defining data for training\n",
    "x = df_pivoted[cols]\n",
    "y = df_pivoted['Source']\n",
    "# importing all needed libraries\n",
    "import pandas as pd\n",
    "import seaborn as sns\n",
    "import matplotlib.pyplot as plt\n",
    "%matplotlib inline\n",
    "from sklearn.naive_bayes import MultinomialNB\n",
    "from sklearn.model_selection import train_test_split\n"
   ]
  },
  {
   "cell_type": "code",
   "execution_count": null,
   "metadata": {
    "vscode": {
     "languageId": "plaintext"
    }
   },
   "outputs": [],
   "source": [
    "x_train, x_test, y_train, y_test = train_test_split(x, y, test_size=0.33, random_state=42)\n",
    "\n",
    "\n"
   ]
  },
  {
   "cell_type": "code",
   "execution_count": null,
   "metadata": {
    "vscode": {
     "languageId": "plaintext"
    }
   },
   "outputs": [],
   "source": [
    "# Training multinomial naive bayes\n",
    "mnb = MultinomialNB()\n",
    "mnb = mnb.fit(x_train, y_train)\n",
    "\n",
    "mnb.score(x_test, y_test)\n",
    "\n",
    "\n",
    "mnb_tot = MultinomialNB()\n",
    "mnb_tot = mnb_tot.fit(x, y)\n",
    "mnb_tot.score(x, y)\n",
    "disease_pred = mnb_tot.predict(x)\n",
    "disease_real = y.values"
   ]
  },
  {
   "cell_type": "code",
   "execution_count": null,
   "metadata": {
    "vscode": {
     "languageId": "plaintext"
    }
   },
   "outputs": [],
   "source": [
    "# printing model error\n",
    "for i in range(0, len(disease_real)):\n",
    "    if disease_pred[i]!=disease_real[i]:\n",
    "        print ('Pred: {0} Actual:{1}'.format(disease_pred[i], disease_real[i]))\n"
   ]
  },
  {
   "cell_type": "code",
   "execution_count": null,
   "metadata": {
    "vscode": {
     "languageId": "plaintext"
    }
   },
   "outputs": [],
   "source": [
    "from sklearn.tree import DecisionTreeClassifier, export_graphviz\n",
    "\n",
    "print (\"DecisionTree\")\n",
    "dt = DecisionTreeClassifier()\n",
    "clf_dt=dt.fit(x,y)\n",
    "print (\"Acurracy: \", clf_dt.score(x,y))\n",
    "\n",
    "from sklearn import tree\n",
    "from sklearn.tree import export_graphviz\n",
    "\n",
    "export_graphviz(dt,\n",
    "                out_file='tree.jpg',\n",
    "                feature_names=cols\n",
    "               )\n",
    "\n",
    "from IPython.display import Image\n",
    "Image(filename='tree.jpg')\n"
   ]
  },
  {
   "cell_type": "code",
   "execution_count": null,
   "metadata": {
    "vscode": {
     "languageId": "plaintext"
    }
   },
   "outputs": [],
   "source": [
    "data = pd.read_csv(\"/content/Datasets/Training.csv\")\n",
    "data.head()\n",
    "data.columns\n",
    "len(data.columns)\n",
    "len(data['prognosis'].unique())\n",
    "df = pd.DataFrame(data)\n",
    "df.head()\n",
    "len(df)\n",
    "\n"
   ]
  },
  {
   "cell_type": "code",
   "execution_count": null,
   "metadata": {
    "vscode": {
     "languageId": "plaintext"
    }
   },
   "outputs": [],
   "source": [
    "cols = df.columns\n",
    "cols = cols[:-1]\n"
   ]
  },
  {
   "cell_type": "code",
   "execution_count": null,
   "metadata": {
    "vscode": {
     "languageId": "plaintext"
    }
   },
   "outputs": [],
   "source": [
    "\n",
    "len(cols)\n",
    "x = df[cols]\n",
    "y = df['prognosis']"
   ]
  },
  {
   "cell_type": "code",
   "execution_count": null,
   "metadata": {
    "vscode": {
     "languageId": "plaintext"
    }
   },
   "outputs": [],
   "source": [
    "x\n",
    "\n",
    "y"
   ]
  },
  {
   "cell_type": "code",
   "execution_count": null,
   "metadata": {
    "vscode": {
     "languageId": "plaintext"
    }
   },
   "outputs": [],
   "source": [
    "x_train, x_test, y_train, y_test = train_test_split(x, y, test_size=0.33, random_state=42)\n",
    "mnb = MultinomialNB()\n",
    "mnb = mnb.fit(x_train, y_train)\n",
    "\n",
    "mnb.score(x_test, y_test)"
   ]
  },
  {
   "cell_type": "code",
   "execution_count": null,
   "metadata": {
    "vscode": {
     "languageId": "plaintext"
    }
   },
   "outputs": [],
   "source": [
    "from sklearn import model_selection\n",
    "print (\"cross result========\")\n",
    "scores = model_selection.cross_val_score(mnb, x_test, y_test, cv=3)\n",
    "print (scores)\n",
    "print (scores.mean())\n",
    "test_data = pd.read_csv(\"/content/Datasets/Testing.csv\")\n",
    "\n"
   ]
  },
  {
   "cell_type": "code",
   "execution_count": null,
   "metadata": {
    "vscode": {
     "languageId": "plaintext"
    }
   },
   "outputs": [],
   "source": [
    "test_data.head()"
   ]
  },
  {
   "cell_type": "code",
   "execution_count": null,
   "metadata": {
    "vscode": {
     "languageId": "plaintext"
    }
   },
   "outputs": [],
   "source": [
    "testx = test_data[cols]\n",
    "testy = test_data['prognosis']\n",
    "\n",
    "mnb.score(testx, testy)\n",
    "\n",
    "from sklearn import model_selection\n",
    "print (\"cross result========\")\n",
    "scores = model_selection.cross_val_score(mnb, x_test, y_test, cv=3)\n",
    "print (scores)\n",
    "print (scores.mean())"
   ]
  },
  {
   "cell_type": "code",
   "execution_count": null,
   "metadata": {
    "vscode": {
     "languageId": "plaintext"
    }
   },
   "outputs": [],
   "source": [
    "from sklearn.tree import DecisionTreeClassifier, export_graphviz\n",
    "x_train, x_test, y_train, y_test = train_test_split(x, y, test_size=0.33, random_state=42)\n",
    "print (\"DecisionTree\")\n",
    "dt = DecisionTreeClassifier(min_samples_split=20)\n",
    "clf_dt=dt.fit(x_train,y_train)\n",
    "print (\"Acurracy: \", clf_dt.score(x_test,y_test))\n",
    "\n",
    "from sklearn import model_selection\n",
    "print (\"cross result========\")\n",
    "scores = model_selection.cross_val_score(dt, x_test, y_test, cv=3)\n",
    "print (scores)\n",
    "print (scores.mean())\n"
   ]
  },
  {
   "cell_type": "code",
   "execution_count": null,
   "metadata": {
    "vscode": {
     "languageId": "plaintext"
    }
   },
   "outputs": [],
   "source": [
    "print (\"Acurracy on the actual test data: \", clf_dt.score(testx,testy))\n",
    "from sklearn import tree\n",
    "from sklearn.tree import export_graphviz\n",
    "\n",
    "export_graphviz(dt,\n",
    "                out_file='tree.dot',\n",
    "                feature_names=cols)\n",
    "\n",
    "!dot -Tpng tree.dot -o tree.png\n",
    "\n",
    "from IPython.display import Image\n",
    "Image(filename='tree.png')\n",
    "\n",
    "dt.__getstate__()\n",
    "%matplotlib inline\n",
    "import numpy as np\n",
    "import matplotlib.pyplot as plt"
   ]
  },
  {
   "cell_type": "code",
   "execution_count": null,
   "metadata": {
    "vscode": {
     "languageId": "plaintext"
    }
   },
   "outputs": [],
   "source": [
    "\n",
    "importances = dt.feature_importances_\n",
    "print(dt.feature_importances_)\n",
    "\n",
    "\n",
    "indices = np.argsort(importances)[::-1]\n",
    "print([data.columns[i] for i in indices])\n",
    "features = cols\n",
    "for f in range(20):\n",
    "    print(\"%d. feature %d - %s (%f)\" % (f + 1, indices[f], features[indices[f]] ,importances[indices[f]]))\n",
    "\n"
   ]
  },
  {
   "cell_type": "code",
   "execution_count": null,
   "metadata": {
    "vscode": {
     "languageId": "plaintext"
    }
   },
   "outputs": [],
   "source": [
    "\n",
    "\n",
    "\n",
    "export_graphviz(dt,\n",
    "                out_file='tree-top5.dot',\n",
    "                feature_names=cols,\n",
    "                max_depth = 5\n",
    "               )\n",
    "!dot -Tpng tree-top5.dot -o tree-top5.png\n",
    "from IPython.display import Image\n",
    "Image(filename='tree-top5.png')\n",
    "\n",
    "\n",
    "feature_dict = {}\n",
    "for i,f in enumerate(features):\n",
    "    feature_dict[f] = i\n",
    "\n",
    "feature_dict['internal_itching']\n",
    "sample_x = [i/52 if i==52 else i*0 for i in range(len(features))]\n",
    "cols = list(data.columns)\n",
    "print(cols.index('skin_rash'))\n",
    "\n",
    "sample_x = np.array(sample_x).reshape(1,len(sample_x))\n",
    "dt.predict(sample_x)\n",
    "\n",
    "dt.predict_proba(sample_x)\n",
    "len(sample_x)"
   ]
  },
  {
   "cell_type": "code",
   "execution_count": null,
   "metadata": {
    "vscode": {
     "languageId": "plaintext"
    }
   },
   "outputs": [],
   "source": [
    "# symptoms = ['skin_rash','itching','nodal_skin_eruptions','increased_appetite','yellow_crust_ooze']\n",
    "# ipt = [0 for i in range(len(features))]\n",
    "# for s in symptoms:\n",
    "#   ipt[cols.index(s)]=1\n",
    "# ipt = np.array([ipt])\n",
    "# print(ipt)\n",
    "# print(dt.predict(ipt))\n",
    "# dt.predict_proba(ipt)\n",
    "\n",
    "# Display the list of all symptoms for the user to choose from\n",
    "# Display the list of valid symptoms for user reference\n",
    "print(\"Available Symptoms:\")\n",
    "valid_symptoms = [data.columns[i] for i in indices]\n",
    "print(valid_symptoms)\n",
    "\n",
    "# Initialize a list to collect the user-selected symptoms\n",
    "input_symptoms = []\n"
   ]
  },
  {
   "cell_type": "code",
   "execution_count": null,
   "metadata": {
    "vscode": {
     "languageId": "plaintext"
    }
   },
   "outputs": [],
   "source": [
    "\n",
    "\n",
    "\n",
    "# Loop to take user input for exactly 5 symptoms\n",
    "print(\"\\nEnter 5 symptoms one by one from the above list:\")\n",
    "for i in range(1, 6):  # Loop to take 5 symptoms\n",
    "    symptom = input(f\"Symptom {i}: \").strip()  # Take input for each symptom\n",
    "    if symptom in valid_symptoms:  # Check if the symptom is valid\n",
    "        input_symptoms.append(symptom)\n",
    "    else:\n",
    "        print(f\"Invalid symptom: '{symptom}'. Please choose from the available symptoms.\")\n",
    "        exit()  # Exit the program if an invalid symptom is entered\n",
    "\n",
    "# Convert symptoms into a binary input vector\n",
    "ipt = [0 for _ in range(len(features))]\n",
    "for symptom in input_symptoms:\n",
    "    ipt[cols.index(symptom)] = 1\n",
    "ipt = np.array([ipt])  # Reshape to make it compatible for prediction"
   ]
  },
  {
   "cell_type": "code",
   "execution_count": null,
   "metadata": {
    "vscode": {
     "languageId": "plaintext"
    }
   },
   "outputs": [],
   "source": [
    "\n",
    "# Predict the disease based on the input symptoms\n",
    "predicted_disease = dt.predict(ipt)\n",
    "probabilities = dt.predict_proba(ipt)\n",
    "\n",
    "# Display the prediction and probabilities\n",
    "print(\"\\nPrediction Results:\")\n",
    "print(f\"Predicted Disease: {predicted_disease[0]}\")\n",
    "print(\"Prediction Probabilities:\")\n",
    "for i, prob in enumerate(probabilities[0]):\n",
    "    print(f\"{dt.classes_[i]}: {prob:.4f}\")\n"
   ]
  }
 ],
 "metadata": {
  "language_info": {
   "name": "python"
  }
 },
 "nbformat": 4,
 "nbformat_minor": 2
}
